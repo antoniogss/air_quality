{
  "nbformat": 4,
  "nbformat_minor": 0,
  "metadata": {
    "colab": {
      "name": "db_preparation.ipynb",
      "provenance": [],
      "collapsed_sections": [],
      "authorship_tag": "ABX9TyMhcH2eo7Cr5gFlCbx7R1BY",
      "include_colab_link": true
    },
    "kernelspec": {
      "name": "python3",
      "display_name": "Python 3"
    },
    "language_info": {
      "name": "python"
    }
  },
  "cells": [
    {
      "cell_type": "markdown",
      "metadata": {
        "id": "view-in-github",
        "colab_type": "text"
      },
      "source": [
        "<a href=\"https://colab.research.google.com/github/antoniogss/air_quality/blob/main/db_preparation.ipynb\" target=\"_parent\"><img src=\"https://colab.research.google.com/assets/colab-badge.svg\" alt=\"Open In Colab\"/></a>"
      ]
    },
    {
      "cell_type": "markdown",
      "source": [
        "#Notebook imports and packages\n"
      ],
      "metadata": {
        "id": "wroQ9fjNIN4S"
      }
    },
    {
      "cell_type": "code",
      "execution_count": 1,
      "metadata": {
        "id": "8K-3i4ABzvU6"
      },
      "outputs": [],
      "source": [
        "import pandas as pd\n",
        "import numpy as np\n",
        "import warnings as war\n",
        "import google.colab as gc\n",
        "import matplotlib.pyplot as plt\n",
        "\n",
        "from google.colab import files #Upload files into the notebook\n",
        "from glob import glob\n",
        "from datetime import date, time, datetime, timedelta\n",
        "from functools import reduce\n",
        "from matplotlib import dates, rcParams\n",
        "\n",
        "%matplotlib inline \n",
        "\"\"\"Will make your plot outputs appear \n",
        "and be stored within the notebook\n",
        "\"\"\"\n",
        "war.filterwarnings('ignore')"
      ]
    },
    {
      "cell_type": "markdown",
      "source": [
        "#Google Drive connection"
      ],
      "metadata": {
        "id": "qc8dw5X2_LRv"
      }
    },
    {
      "cell_type": "code",
      "source": [
        "gc.drive.mount('./gdrive/', \n",
        "               force_remount=True\n",
        "              )\n",
        "gc.output.clear()"
      ],
      "metadata": {
        "id": "qeOv-U4--xOF"
      },
      "execution_count": 2,
      "outputs": []
    },
    {
      "cell_type": "markdown",
      "source": [
        "#Downloading files"
      ],
      "metadata": {
        "id": "157Z4ExT_ix0"
      }
    },
    {
      "cell_type": "code",
      "source": [
        "%cd ./gdrive/MyDrive/air_quality/datasets/\n",
        "gc.output.clear()\n",
        "%pwd"
      ],
      "metadata": {
        "colab": {
          "base_uri": "https://localhost:8080/",
          "height": 35
        },
        "id": "NEJSwmd1_lI-",
        "outputId": "4184aaee-8296-4128-bd7c-265b2211aaee"
      },
      "execution_count": 3,
      "outputs": [
        {
          "output_type": "execute_result",
          "data": {
            "text/plain": [
              "'/content/gdrive/MyDrive/air_quality/datasets'"
            ],
            "application/vnd.google.colaboratory.intrinsic+json": {
              "type": "string"
            }
          },
          "metadata": {},
          "execution_count": 3
        }
      ]
    },
    {
      "cell_type": "code",
      "source": [
        "# files.upload()\n",
        "# gc.output.clear()\n",
        "\n",
        "# %ls {a,b,c}*.csv\n",
        "# !echo -e \"\\n\"\n",
        "\n",
        "# !echo \"Number of lines | file\"\n",
        "# !wc -l *{12..21}.csv\n",
        "# !echo -e \"\\n\"\n",
        "\n",
        "!echo \"Number of uploaded files:\" \n",
        "%ll *.csv | wc -l\n",
        "!echo -e \"\\n\"\n",
        "\n",
        "!echo \"Total number of lines in multiple files:\"\n",
        "!cat *.csv | wc -l"
      ],
      "metadata": {
        "colab": {
          "base_uri": "https://localhost:8080/"
        },
        "id": "XOiUNu1vACpU",
        "outputId": "58a0ca06-ab41-4b76-f9f2-0779eb8e024a"
      },
      "execution_count": 12,
      "outputs": [
        {
          "output_type": "stream",
          "name": "stdout",
          "text": [
            "Number of uploaded files:\n",
            "107\n",
            "\n",
            "\n",
            "Total number of lines in multiple files:\n",
            "938124\n"
          ]
        }
      ]
    },
    {
      "cell_type": "markdown",
      "source": [
        "#Remove all headers"
      ],
      "metadata": {
        "id": "XJ_PMdTEAbcb"
      }
    },
    {
      "cell_type": "code",
      "source": [
        "# !sed -i '1,7d' *.csv"
      ],
      "metadata": {
        "id": "kXPqPc59Ad_O"
      },
      "execution_count": 10,
      "outputs": []
    },
    {
      "cell_type": "markdown",
      "source": [
        "#Concatenating files - 1\n",
        "\n"
      ],
      "metadata": {
        "id": "fjUaImfPK4PW"
      }
    },
    {
      "cell_type": "code",
      "source": [
        "# %mkdir \"./created_datasets/\""
      ],
      "metadata": {
        "id": "e6tetu5UK7Q5"
      },
      "execution_count": 6,
      "outputs": []
    },
    {
      "cell_type": "code",
      "source": [
        "# !sed -i '1d' a_cp_20{13..21}.csv \n",
        "# !sed -i '1d' a_ib_20{13..21}.csv \n",
        "# !sed -i '1d' a_in_20{13..21}.csv \n",
        "# !sed -i '1d' a_pd_20{13..21}.csv \n",
        "# !sed -i '1d' b_cp_20{13..21}.csv \n",
        "# !sed -i '1d' b_ib_20{13..21}.csv \n",
        "# !sed -i '1d' b_in_20{13..21}.csv \n",
        "# !sed -i '1d' b_pd_20{13..21}.csv \n",
        "# !sed -i '1d' c_cp_20{13..21}.csv \n",
        "# !sed -i '1d' c_ib_20{13..21}.csv \n",
        "# !sed -i '1d' c_in_20{13..21}.csv \n",
        "# !sed -i '1d' c_pd_20{17..21}.csv \n",
        "\n",
        "# !cat a_cp_20{12..21}.csv > a_cp.csv | mv a_cp.csv ./created_datasets/\n",
        "# !cat a_ib_20{12..21}.csv > a_ib.csv | mv a_ib.csv ./created_datasets/\n",
        "# !cat a_in_20{12..21}.csv > a_in.csv | mv a_in.csv ./created_datasets/\n",
        "# !cat a_pd_20{12..21}.csv > a_pd.csv | mv a_pd.csv ./created_datasets/\n",
        "\n",
        "# !cat b_cp_20{12..21}.csv > b_cp.csv | mv b_cp.csv ./created_datasets/\n",
        "# !cat b_ib_20{12..21}.csv > b_ib.csv | mv b_ib.csv ./created_datasets/\n",
        "# !cat b_in_20{12..21}.csv > b_in.csv | mv b_in.csv ./created_datasets/\n",
        "# !cat b_pd_20{12..21}.csv > b_pd.csv | mv b_pd.csv ./created_datasets/\n",
        "\n",
        "# !cat c_cp_20{12..21}.csv > c_cp.csv | mv c_cp.csv ./created_datasets/\n",
        "# !cat c_ib_20{12..21}.csv > c_ib.csv | mv c_ib.csv ./created_datasets/\n",
        "# !cat c_in_20{12..21}.csv > c_in.csv | mv c_in.csv ./created_datasets/\n",
        "# !cat c_pd_20{16..21}.csv > c_pd.csv | mv c_pd.csv ./created_datasets/\n",
        "\n",
        "# gc.output.clear()"
      ],
      "metadata": {
        "id": "jmAXf_1YdYQm"
      },
      "execution_count": 7,
      "outputs": []
    },
    {
      "cell_type": "code",
      "source": [
        "%cd ./created_datasets/\n",
        "gc.output.clear()\n",
        "%pwd"
      ],
      "metadata": {
        "colab": {
          "base_uri": "https://localhost:8080/",
          "height": 35
        },
        "id": "v81O__dVellh",
        "outputId": "648096bf-c0f7-468a-b817-102bf8b3a279"
      },
      "execution_count": 26,
      "outputs": [
        {
          "output_type": "execute_result",
          "data": {
            "text/plain": [
              "'/content/gdrive/MyDrive/air_quality/datasets/created_datasets'"
            ],
            "application/vnd.google.colaboratory.intrinsic+json": {
              "type": "string"
            }
          },
          "metadata": {},
          "execution_count": 26
        }
      ]
    },
    {
      "cell_type": "code",
      "source": [
        "!echo \"Number of files:\" \n",
        "%ll *.csv | wc -l\n",
        "!echo -e \"\\n\"\n",
        "\n",
        "!echo \"Total number of lines in multiple files:\"\n",
        "!cat *.csv | wc -l"
      ],
      "metadata": {
        "colab": {
          "base_uri": "https://localhost:8080/"
        },
        "id": "Jt4tpmtAzn6o",
        "outputId": "6ff5855f-f7df-48e1-8a50-800b38b7bd57"
      },
      "execution_count": 27,
      "outputs": [
        {
          "output_type": "stream",
          "name": "stdout",
          "text": [
            "Number of files:\n",
            "12\n",
            "\n",
            "\n",
            "Total number of lines in multiple files:\n",
            "938124\n"
          ]
        }
      ]
    },
    {
      "cell_type": "markdown",
      "source": [
        "#Adding the column 'estacao'"
      ],
      "metadata": {
        "id": "l-bj_I9d9Lmo"
      }
    },
    {
      "cell_type": "code",
      "source": [
        "# assign dataset names\n",
        "list_of_names = ['a_cp','b_cp','c_cp', #[0-1-2]:0\n",
        "                 'a_ib','b_ib','c_ib', #[3-4-5]:1\n",
        "                 'a_in','b_in','c_in', #[6-7-8]:2\n",
        "                 'a_pd','b_pd','c_pd'] #[9-10-11]:3\n",
        "\n",
        "# create empty list\n",
        "df = []\n",
        "  \n",
        "# append datasets into teh list\n",
        "for i in range(len(list_of_names)):\n",
        "    temp_df = pd.read_csv(\"./\"+list_of_names[i]+\".csv\",\n",
        "                          sep = ';', \n",
        "                          index_col = None, \n",
        "                          header = 0,\n",
        "                          error_bad_lines = False,\n",
        "                          encoding='latin-1'\n",
        "                        )\n",
        "    df.append(temp_df)"
      ],
      "metadata": {
        "id": "XhrPmqVG0AHp"
      },
      "execution_count": 38,
      "outputs": []
    },
    {
      "cell_type": "code",
      "source": [
        "estacao = [\"Capão Redondo\", \"Ibirapuera\", \"Interlagos\", \"Parque Dom Pedro II\"]\n",
        "\n",
        "df[0]['estacao'] = df[1]['estacao'] = df[2]['estacao'] = estacao[0]\n",
        "df[3]['estacao'] = df[4]['estacao'] = df[5]['estacao'] = estacao[1]\n",
        "df[6]['estacao'] = df[7]['estacao'] = df[8]['estacao'] = estacao[2]\n",
        "df[9]['estacao'] = df[10]['estacao'] = df[11]['estacao'] = estacao[3]"
      ],
      "metadata": {
        "id": "cLw3xDo_IzgX"
      },
      "execution_count": 54,
      "outputs": []
    },
    {
      "cell_type": "code",
      "source": [
        "df[11].head()"
      ],
      "metadata": {
        "colab": {
          "base_uri": "https://localhost:8080/",
          "height": 206
        },
        "id": "Z_oHNkxBIMLd",
        "outputId": "c24ca537-bf62-4081-ac22-444fc1ddfa8e"
      },
      "execution_count": 63,
      "outputs": [
        {
          "output_type": "execute_result",
          "data": {
            "text/plain": [
              "   Unnamed: 0 Unnamed: 1 TEMP(Temperatura do Ar) - °C  \\\n",
              "0  01/01/2016      01:00                          NaN   \n",
              "1  01/01/2016      02:00                          NaN   \n",
              "2  01/01/2016      03:00                          NaN   \n",
              "3  01/01/2016      04:00                          NaN   \n",
              "4  01/01/2016      05:00                          NaN   \n",
              "\n",
              "   UR(Umidade Relativa do Ar) - % VV(Velocidade do Vento) - m/s  \\\n",
              "0                             NaN                           NaN   \n",
              "1                             NaN                           NaN   \n",
              "2                             NaN                           NaN   \n",
              "3                             NaN                           NaN   \n",
              "4                             NaN                           NaN   \n",
              "\n",
              "               estacao  \n",
              "0  Parque Dom Pedro II  \n",
              "1  Parque Dom Pedro II  \n",
              "2  Parque Dom Pedro II  \n",
              "3  Parque Dom Pedro II  \n",
              "4  Parque Dom Pedro II  "
            ],
            "text/html": [
              "\n",
              "  <div id=\"df-741e7905-2b67-4f1a-98ca-af6d40eb992e\">\n",
              "    <div class=\"colab-df-container\">\n",
              "      <div>\n",
              "<style scoped>\n",
              "    .dataframe tbody tr th:only-of-type {\n",
              "        vertical-align: middle;\n",
              "    }\n",
              "\n",
              "    .dataframe tbody tr th {\n",
              "        vertical-align: top;\n",
              "    }\n",
              "\n",
              "    .dataframe thead th {\n",
              "        text-align: right;\n",
              "    }\n",
              "</style>\n",
              "<table border=\"1\" class=\"dataframe\">\n",
              "  <thead>\n",
              "    <tr style=\"text-align: right;\">\n",
              "      <th></th>\n",
              "      <th>Unnamed: 0</th>\n",
              "      <th>Unnamed: 1</th>\n",
              "      <th>TEMP(Temperatura do Ar) - °C</th>\n",
              "      <th>UR(Umidade Relativa do Ar) - %</th>\n",
              "      <th>VV(Velocidade do Vento) - m/s</th>\n",
              "      <th>estacao</th>\n",
              "    </tr>\n",
              "  </thead>\n",
              "  <tbody>\n",
              "    <tr>\n",
              "      <th>0</th>\n",
              "      <td>01/01/2016</td>\n",
              "      <td>01:00</td>\n",
              "      <td>NaN</td>\n",
              "      <td>NaN</td>\n",
              "      <td>NaN</td>\n",
              "      <td>Parque Dom Pedro II</td>\n",
              "    </tr>\n",
              "    <tr>\n",
              "      <th>1</th>\n",
              "      <td>01/01/2016</td>\n",
              "      <td>02:00</td>\n",
              "      <td>NaN</td>\n",
              "      <td>NaN</td>\n",
              "      <td>NaN</td>\n",
              "      <td>Parque Dom Pedro II</td>\n",
              "    </tr>\n",
              "    <tr>\n",
              "      <th>2</th>\n",
              "      <td>01/01/2016</td>\n",
              "      <td>03:00</td>\n",
              "      <td>NaN</td>\n",
              "      <td>NaN</td>\n",
              "      <td>NaN</td>\n",
              "      <td>Parque Dom Pedro II</td>\n",
              "    </tr>\n",
              "    <tr>\n",
              "      <th>3</th>\n",
              "      <td>01/01/2016</td>\n",
              "      <td>04:00</td>\n",
              "      <td>NaN</td>\n",
              "      <td>NaN</td>\n",
              "      <td>NaN</td>\n",
              "      <td>Parque Dom Pedro II</td>\n",
              "    </tr>\n",
              "    <tr>\n",
              "      <th>4</th>\n",
              "      <td>01/01/2016</td>\n",
              "      <td>05:00</td>\n",
              "      <td>NaN</td>\n",
              "      <td>NaN</td>\n",
              "      <td>NaN</td>\n",
              "      <td>Parque Dom Pedro II</td>\n",
              "    </tr>\n",
              "  </tbody>\n",
              "</table>\n",
              "</div>\n",
              "      <button class=\"colab-df-convert\" onclick=\"convertToInteractive('df-741e7905-2b67-4f1a-98ca-af6d40eb992e')\"\n",
              "              title=\"Convert this dataframe to an interactive table.\"\n",
              "              style=\"display:none;\">\n",
              "        \n",
              "  <svg xmlns=\"http://www.w3.org/2000/svg\" height=\"24px\"viewBox=\"0 0 24 24\"\n",
              "       width=\"24px\">\n",
              "    <path d=\"M0 0h24v24H0V0z\" fill=\"none\"/>\n",
              "    <path d=\"M18.56 5.44l.94 2.06.94-2.06 2.06-.94-2.06-.94-.94-2.06-.94 2.06-2.06.94zm-11 1L8.5 8.5l.94-2.06 2.06-.94-2.06-.94L8.5 2.5l-.94 2.06-2.06.94zm10 10l.94 2.06.94-2.06 2.06-.94-2.06-.94-.94-2.06-.94 2.06-2.06.94z\"/><path d=\"M17.41 7.96l-1.37-1.37c-.4-.4-.92-.59-1.43-.59-.52 0-1.04.2-1.43.59L10.3 9.45l-7.72 7.72c-.78.78-.78 2.05 0 2.83L4 21.41c.39.39.9.59 1.41.59.51 0 1.02-.2 1.41-.59l7.78-7.78 2.81-2.81c.8-.78.8-2.07 0-2.86zM5.41 20L4 18.59l7.72-7.72 1.47 1.35L5.41 20z\"/>\n",
              "  </svg>\n",
              "      </button>\n",
              "      \n",
              "  <style>\n",
              "    .colab-df-container {\n",
              "      display:flex;\n",
              "      flex-wrap:wrap;\n",
              "      gap: 12px;\n",
              "    }\n",
              "\n",
              "    .colab-df-convert {\n",
              "      background-color: #E8F0FE;\n",
              "      border: none;\n",
              "      border-radius: 50%;\n",
              "      cursor: pointer;\n",
              "      display: none;\n",
              "      fill: #1967D2;\n",
              "      height: 32px;\n",
              "      padding: 0 0 0 0;\n",
              "      width: 32px;\n",
              "    }\n",
              "\n",
              "    .colab-df-convert:hover {\n",
              "      background-color: #E2EBFA;\n",
              "      box-shadow: 0px 1px 2px rgba(60, 64, 67, 0.3), 0px 1px 3px 1px rgba(60, 64, 67, 0.15);\n",
              "      fill: #174EA6;\n",
              "    }\n",
              "\n",
              "    [theme=dark] .colab-df-convert {\n",
              "      background-color: #3B4455;\n",
              "      fill: #D2E3FC;\n",
              "    }\n",
              "\n",
              "    [theme=dark] .colab-df-convert:hover {\n",
              "      background-color: #434B5C;\n",
              "      box-shadow: 0px 1px 3px 1px rgba(0, 0, 0, 0.15);\n",
              "      filter: drop-shadow(0px 1px 2px rgba(0, 0, 0, 0.3));\n",
              "      fill: #FFFFFF;\n",
              "    }\n",
              "  </style>\n",
              "\n",
              "      <script>\n",
              "        const buttonEl =\n",
              "          document.querySelector('#df-741e7905-2b67-4f1a-98ca-af6d40eb992e button.colab-df-convert');\n",
              "        buttonEl.style.display =\n",
              "          google.colab.kernel.accessAllowed ? 'block' : 'none';\n",
              "\n",
              "        async function convertToInteractive(key) {\n",
              "          const element = document.querySelector('#df-741e7905-2b67-4f1a-98ca-af6d40eb992e');\n",
              "          const dataTable =\n",
              "            await google.colab.kernel.invokeFunction('convertToInteractive',\n",
              "                                                     [key], {});\n",
              "          if (!dataTable) return;\n",
              "\n",
              "          const docLinkHtml = 'Like what you see? Visit the ' +\n",
              "            '<a target=\"_blank\" href=https://colab.research.google.com/notebooks/data_table.ipynb>data table notebook</a>'\n",
              "            + ' to learn more about interactive tables.';\n",
              "          element.innerHTML = '';\n",
              "          dataTable['output_type'] = 'display_data';\n",
              "          await google.colab.output.renderOutput(dataTable, element);\n",
              "          const docLink = document.createElement('div');\n",
              "          docLink.innerHTML = docLinkHtml;\n",
              "          element.appendChild(docLink);\n",
              "        }\n",
              "      </script>\n",
              "    </div>\n",
              "  </div>\n",
              "  "
            ]
          },
          "metadata": {},
          "execution_count": 63
        }
      ]
    },
    {
      "cell_type": "markdown",
      "source": [
        "#Concatenating files - 2"
      ],
      "metadata": {
        "id": "VQH4UfScjhRk"
      }
    },
    {
      "cell_type": "code",
      "source": [
        "df_a = pd.concat(\n",
        "                  [df[0], df[3], df[6], df[9]], \n",
        "                  axis = 0, \n",
        "                  sort = False\n",
        "                )\n",
        "\n",
        "df_b = pd.concat(\n",
        "                  [df[1], df[4], df[7], df[10]],\n",
        "                  axis = 0, \n",
        "                  sort = False\n",
        "                )\n",
        "\n",
        "df_c = pd.concat(\n",
        "                  [df[2], df[5], df[8], df[11]], \n",
        "                  axis = 0, \n",
        "                  sort = False\n",
        "                )"
      ],
      "metadata": {
        "id": "zkOZGHTkcrIo"
      },
      "execution_count": 69,
      "outputs": []
    },
    {
      "cell_type": "code",
      "source": [
        "df_a.head()"
      ],
      "metadata": {
        "colab": {
          "base_uri": "https://localhost:8080/",
          "height": 206
        },
        "id": "2GfMZDJYfTza",
        "outputId": "d953d4af-6977-4a7e-801e-e1efe30518bd"
      },
      "execution_count": 73,
      "outputs": [
        {
          "output_type": "execute_result",
          "data": {
            "text/plain": [
              "   Unnamed: 0 Unnamed: 1  O3(Ozônio) - µg/m3  \\\n",
              "0  01/01/2012      01:00                 NaN   \n",
              "1  01/01/2012      02:00                 NaN   \n",
              "2  01/01/2012      03:00                 NaN   \n",
              "3  01/01/2012      04:00                 NaN   \n",
              "4  01/01/2012      05:00                 NaN   \n",
              "\n",
              "   RADG(Radiação Solar Global) - W/m2  RADUV(Radiação Ultra-violeta) - W/m2  \\\n",
              "0                                 NaN                                   NaN   \n",
              "1                                 NaN                                   NaN   \n",
              "2                                 NaN                                   NaN   \n",
              "3                                 NaN                                   NaN   \n",
              "4                                 NaN                                   NaN   \n",
              "\n",
              "         estacao  \n",
              "0  Capão Redondo  \n",
              "1  Capão Redondo  \n",
              "2  Capão Redondo  \n",
              "3  Capão Redondo  \n",
              "4  Capão Redondo  "
            ],
            "text/html": [
              "\n",
              "  <div id=\"df-aa06ac17-f8a8-42b6-aee2-7cdffbb221fd\">\n",
              "    <div class=\"colab-df-container\">\n",
              "      <div>\n",
              "<style scoped>\n",
              "    .dataframe tbody tr th:only-of-type {\n",
              "        vertical-align: middle;\n",
              "    }\n",
              "\n",
              "    .dataframe tbody tr th {\n",
              "        vertical-align: top;\n",
              "    }\n",
              "\n",
              "    .dataframe thead th {\n",
              "        text-align: right;\n",
              "    }\n",
              "</style>\n",
              "<table border=\"1\" class=\"dataframe\">\n",
              "  <thead>\n",
              "    <tr style=\"text-align: right;\">\n",
              "      <th></th>\n",
              "      <th>Unnamed: 0</th>\n",
              "      <th>Unnamed: 1</th>\n",
              "      <th>O3(Ozônio) - µg/m3</th>\n",
              "      <th>RADG(Radiação Solar Global) - W/m2</th>\n",
              "      <th>RADUV(Radiação Ultra-violeta) - W/m2</th>\n",
              "      <th>estacao</th>\n",
              "    </tr>\n",
              "  </thead>\n",
              "  <tbody>\n",
              "    <tr>\n",
              "      <th>0</th>\n",
              "      <td>01/01/2012</td>\n",
              "      <td>01:00</td>\n",
              "      <td>NaN</td>\n",
              "      <td>NaN</td>\n",
              "      <td>NaN</td>\n",
              "      <td>Capão Redondo</td>\n",
              "    </tr>\n",
              "    <tr>\n",
              "      <th>1</th>\n",
              "      <td>01/01/2012</td>\n",
              "      <td>02:00</td>\n",
              "      <td>NaN</td>\n",
              "      <td>NaN</td>\n",
              "      <td>NaN</td>\n",
              "      <td>Capão Redondo</td>\n",
              "    </tr>\n",
              "    <tr>\n",
              "      <th>2</th>\n",
              "      <td>01/01/2012</td>\n",
              "      <td>03:00</td>\n",
              "      <td>NaN</td>\n",
              "      <td>NaN</td>\n",
              "      <td>NaN</td>\n",
              "      <td>Capão Redondo</td>\n",
              "    </tr>\n",
              "    <tr>\n",
              "      <th>3</th>\n",
              "      <td>01/01/2012</td>\n",
              "      <td>04:00</td>\n",
              "      <td>NaN</td>\n",
              "      <td>NaN</td>\n",
              "      <td>NaN</td>\n",
              "      <td>Capão Redondo</td>\n",
              "    </tr>\n",
              "    <tr>\n",
              "      <th>4</th>\n",
              "      <td>01/01/2012</td>\n",
              "      <td>05:00</td>\n",
              "      <td>NaN</td>\n",
              "      <td>NaN</td>\n",
              "      <td>NaN</td>\n",
              "      <td>Capão Redondo</td>\n",
              "    </tr>\n",
              "  </tbody>\n",
              "</table>\n",
              "</div>\n",
              "      <button class=\"colab-df-convert\" onclick=\"convertToInteractive('df-aa06ac17-f8a8-42b6-aee2-7cdffbb221fd')\"\n",
              "              title=\"Convert this dataframe to an interactive table.\"\n",
              "              style=\"display:none;\">\n",
              "        \n",
              "  <svg xmlns=\"http://www.w3.org/2000/svg\" height=\"24px\"viewBox=\"0 0 24 24\"\n",
              "       width=\"24px\">\n",
              "    <path d=\"M0 0h24v24H0V0z\" fill=\"none\"/>\n",
              "    <path d=\"M18.56 5.44l.94 2.06.94-2.06 2.06-.94-2.06-.94-.94-2.06-.94 2.06-2.06.94zm-11 1L8.5 8.5l.94-2.06 2.06-.94-2.06-.94L8.5 2.5l-.94 2.06-2.06.94zm10 10l.94 2.06.94-2.06 2.06-.94-2.06-.94-.94-2.06-.94 2.06-2.06.94z\"/><path d=\"M17.41 7.96l-1.37-1.37c-.4-.4-.92-.59-1.43-.59-.52 0-1.04.2-1.43.59L10.3 9.45l-7.72 7.72c-.78.78-.78 2.05 0 2.83L4 21.41c.39.39.9.59 1.41.59.51 0 1.02-.2 1.41-.59l7.78-7.78 2.81-2.81c.8-.78.8-2.07 0-2.86zM5.41 20L4 18.59l7.72-7.72 1.47 1.35L5.41 20z\"/>\n",
              "  </svg>\n",
              "      </button>\n",
              "      \n",
              "  <style>\n",
              "    .colab-df-container {\n",
              "      display:flex;\n",
              "      flex-wrap:wrap;\n",
              "      gap: 12px;\n",
              "    }\n",
              "\n",
              "    .colab-df-convert {\n",
              "      background-color: #E8F0FE;\n",
              "      border: none;\n",
              "      border-radius: 50%;\n",
              "      cursor: pointer;\n",
              "      display: none;\n",
              "      fill: #1967D2;\n",
              "      height: 32px;\n",
              "      padding: 0 0 0 0;\n",
              "      width: 32px;\n",
              "    }\n",
              "\n",
              "    .colab-df-convert:hover {\n",
              "      background-color: #E2EBFA;\n",
              "      box-shadow: 0px 1px 2px rgba(60, 64, 67, 0.3), 0px 1px 3px 1px rgba(60, 64, 67, 0.15);\n",
              "      fill: #174EA6;\n",
              "    }\n",
              "\n",
              "    [theme=dark] .colab-df-convert {\n",
              "      background-color: #3B4455;\n",
              "      fill: #D2E3FC;\n",
              "    }\n",
              "\n",
              "    [theme=dark] .colab-df-convert:hover {\n",
              "      background-color: #434B5C;\n",
              "      box-shadow: 0px 1px 3px 1px rgba(0, 0, 0, 0.15);\n",
              "      filter: drop-shadow(0px 1px 2px rgba(0, 0, 0, 0.3));\n",
              "      fill: #FFFFFF;\n",
              "    }\n",
              "  </style>\n",
              "\n",
              "      <script>\n",
              "        const buttonEl =\n",
              "          document.querySelector('#df-aa06ac17-f8a8-42b6-aee2-7cdffbb221fd button.colab-df-convert');\n",
              "        buttonEl.style.display =\n",
              "          google.colab.kernel.accessAllowed ? 'block' : 'none';\n",
              "\n",
              "        async function convertToInteractive(key) {\n",
              "          const element = document.querySelector('#df-aa06ac17-f8a8-42b6-aee2-7cdffbb221fd');\n",
              "          const dataTable =\n",
              "            await google.colab.kernel.invokeFunction('convertToInteractive',\n",
              "                                                     [key], {});\n",
              "          if (!dataTable) return;\n",
              "\n",
              "          const docLinkHtml = 'Like what you see? Visit the ' +\n",
              "            '<a target=\"_blank\" href=https://colab.research.google.com/notebooks/data_table.ipynb>data table notebook</a>'\n",
              "            + ' to learn more about interactive tables.';\n",
              "          element.innerHTML = '';\n",
              "          dataTable['output_type'] = 'display_data';\n",
              "          await google.colab.output.renderOutput(dataTable, element);\n",
              "          const docLink = document.createElement('div');\n",
              "          docLink.innerHTML = docLinkHtml;\n",
              "          element.appendChild(docLink);\n",
              "        }\n",
              "      </script>\n",
              "    </div>\n",
              "  </div>\n",
              "  "
            ]
          },
          "metadata": {},
          "execution_count": 73
        }
      ]
    },
    {
      "cell_type": "code",
      "source": [
        "print('Columns: df_a ')\n",
        "df_a.columns"
      ],
      "metadata": {
        "colab": {
          "base_uri": "https://localhost:8080/"
        },
        "id": "mRoJ2WzMinY-",
        "outputId": "e6ff021d-3cf9-4f2e-c2b8-0b0ee9f13b7f"
      },
      "execution_count": 75,
      "outputs": [
        {
          "output_type": "stream",
          "name": "stdout",
          "text": [
            "Columns: df_a \n"
          ]
        },
        {
          "output_type": "execute_result",
          "data": {
            "text/plain": [
              "Index(['Unnamed: 0', 'Unnamed: 1', 'O3(Ozônio) - µg/m3',\n",
              "       'RADG(Radiação Solar Global) - W/m2',\n",
              "       'RADUV(Radiação Ultra-violeta) - W/m2', 'estacao'],\n",
              "      dtype='object')"
            ]
          },
          "metadata": {},
          "execution_count": 75
        }
      ]
    },
    {
      "cell_type": "code",
      "source": [
        "print('Columns: df_b ')\n",
        "df_b.columns"
      ],
      "metadata": {
        "colab": {
          "base_uri": "https://localhost:8080/"
        },
        "id": "T3tvGqjQjNkO",
        "outputId": "79d3d9c9-0492-4a1a-b011-2ace36ae3510"
      },
      "execution_count": 76,
      "outputs": [
        {
          "output_type": "stream",
          "name": "stdout",
          "text": [
            "Columns: df_b \n"
          ]
        },
        {
          "output_type": "execute_result",
          "data": {
            "text/plain": [
              "Index(['Unnamed: 0', 'Unnamed: 1', 'NO(Monóxido de Nitrogênio) - µg/m3',\n",
              "       'NO2(Dióxido de Nitrogênio) - µg/m3', 'NOx(Óxidos de Nitrogênio) - ppb',\n",
              "       'estacao'],\n",
              "      dtype='object')"
            ]
          },
          "metadata": {},
          "execution_count": 76
        }
      ]
    },
    {
      "cell_type": "code",
      "source": [
        "print('Columns: df_c ')\n",
        "df_c.columns"
      ],
      "metadata": {
        "colab": {
          "base_uri": "https://localhost:8080/"
        },
        "id": "Z8LdjAW2jeB_",
        "outputId": "102ded98-5db2-4148-ced1-13a1beec57eb"
      },
      "execution_count": 77,
      "outputs": [
        {
          "output_type": "stream",
          "name": "stdout",
          "text": [
            "Columns: df_c \n"
          ]
        },
        {
          "output_type": "execute_result",
          "data": {
            "text/plain": [
              "Index(['Unnamed: 0', 'Unnamed: 1', 'TEMP(Temperatura do Ar) - °C',\n",
              "       'UR(Umidade Relativa do Ar) - %', 'VV(Velocidade do Vento) - m/s',\n",
              "       'estacao'],\n",
              "      dtype='object')"
            ]
          },
          "metadata": {},
          "execution_count": 77
        }
      ]
    },
    {
      "cell_type": "code",
      "source": [
        "df_ab = pd.merge(df_a, #only two dfs at time\n",
        "                 df_b, \n",
        "                 on=['Unnamed: 0', 'Unnamed: 1', 'estacao'],\n",
        "                 how = \"outer\"\n",
        "                )"
      ],
      "metadata": {
        "id": "nt3zAskakH0u"
      },
      "execution_count": 81,
      "outputs": []
    },
    {
      "cell_type": "code",
      "source": [
        "df = pd.merge(df_ab, \n",
        "              df_c, \n",
        "              on=['Unnamed: 0', 'Unnamed: 1', 'estacao'],\n",
        "              how = \"outer\"\n",
        "            )"
      ],
      "metadata": {
        "id": "q3rFKbqUnf9P"
      },
      "execution_count": 83,
      "outputs": []
    },
    {
      "cell_type": "code",
      "source": [
        "df.head()"
      ],
      "metadata": {
        "colab": {
          "base_uri": "https://localhost:8080/",
          "height": 372
        },
        "id": "KqU0uQ1Qn5ER",
        "outputId": "4a51a57e-afac-4886-fb1d-de36db45c293"
      },
      "execution_count": 84,
      "outputs": [
        {
          "output_type": "execute_result",
          "data": {
            "text/plain": [
              "   Unnamed: 0 Unnamed: 1  O3(Ozônio) - µg/m3  \\\n",
              "0  01/01/2012      01:00                 NaN   \n",
              "1  01/01/2012      02:00                 NaN   \n",
              "2  01/01/2012      03:00                 NaN   \n",
              "3  01/01/2012      04:00                 NaN   \n",
              "4  01/01/2012      05:00                 NaN   \n",
              "\n",
              "   RADG(Radiação Solar Global) - W/m2  RADUV(Radiação Ultra-violeta) - W/m2  \\\n",
              "0                                 NaN                                   NaN   \n",
              "1                                 NaN                                   NaN   \n",
              "2                                 NaN                                   NaN   \n",
              "3                                 NaN                                   NaN   \n",
              "4                                 NaN                                   NaN   \n",
              "\n",
              "         estacao  NO(Monóxido de Nitrogênio) - µg/m3  \\\n",
              "0  Capão Redondo                                 NaN   \n",
              "1  Capão Redondo                                 NaN   \n",
              "2  Capão Redondo                                 NaN   \n",
              "3  Capão Redondo                                 NaN   \n",
              "4  Capão Redondo                                 NaN   \n",
              "\n",
              "   NO2(Dióxido de Nitrogênio) - µg/m3  NOx(Óxidos de Nitrogênio) - ppb  \\\n",
              "0                                 NaN                              NaN   \n",
              "1                                 NaN                              NaN   \n",
              "2                                 NaN                              NaN   \n",
              "3                                 NaN                              NaN   \n",
              "4                                 NaN                              NaN   \n",
              "\n",
              "  TEMP(Temperatura do Ar) - °C  UR(Umidade Relativa do Ar) - %  \\\n",
              "0                          NaN                             NaN   \n",
              "1                          NaN                             NaN   \n",
              "2                          NaN                             NaN   \n",
              "3                          NaN                             NaN   \n",
              "4                          NaN                             NaN   \n",
              "\n",
              "  VV(Velocidade do Vento) - m/s  \n",
              "0                           NaN  \n",
              "1                           NaN  \n",
              "2                           NaN  \n",
              "3                           NaN  \n",
              "4                           NaN  "
            ],
            "text/html": [
              "\n",
              "  <div id=\"df-4bd43259-0221-465a-8fc1-53bb264d7116\">\n",
              "    <div class=\"colab-df-container\">\n",
              "      <div>\n",
              "<style scoped>\n",
              "    .dataframe tbody tr th:only-of-type {\n",
              "        vertical-align: middle;\n",
              "    }\n",
              "\n",
              "    .dataframe tbody tr th {\n",
              "        vertical-align: top;\n",
              "    }\n",
              "\n",
              "    .dataframe thead th {\n",
              "        text-align: right;\n",
              "    }\n",
              "</style>\n",
              "<table border=\"1\" class=\"dataframe\">\n",
              "  <thead>\n",
              "    <tr style=\"text-align: right;\">\n",
              "      <th></th>\n",
              "      <th>Unnamed: 0</th>\n",
              "      <th>Unnamed: 1</th>\n",
              "      <th>O3(Ozônio) - µg/m3</th>\n",
              "      <th>RADG(Radiação Solar Global) - W/m2</th>\n",
              "      <th>RADUV(Radiação Ultra-violeta) - W/m2</th>\n",
              "      <th>estacao</th>\n",
              "      <th>NO(Monóxido de Nitrogênio) - µg/m3</th>\n",
              "      <th>NO2(Dióxido de Nitrogênio) - µg/m3</th>\n",
              "      <th>NOx(Óxidos de Nitrogênio) - ppb</th>\n",
              "      <th>TEMP(Temperatura do Ar) - °C</th>\n",
              "      <th>UR(Umidade Relativa do Ar) - %</th>\n",
              "      <th>VV(Velocidade do Vento) - m/s</th>\n",
              "    </tr>\n",
              "  </thead>\n",
              "  <tbody>\n",
              "    <tr>\n",
              "      <th>0</th>\n",
              "      <td>01/01/2012</td>\n",
              "      <td>01:00</td>\n",
              "      <td>NaN</td>\n",
              "      <td>NaN</td>\n",
              "      <td>NaN</td>\n",
              "      <td>Capão Redondo</td>\n",
              "      <td>NaN</td>\n",
              "      <td>NaN</td>\n",
              "      <td>NaN</td>\n",
              "      <td>NaN</td>\n",
              "      <td>NaN</td>\n",
              "      <td>NaN</td>\n",
              "    </tr>\n",
              "    <tr>\n",
              "      <th>1</th>\n",
              "      <td>01/01/2012</td>\n",
              "      <td>02:00</td>\n",
              "      <td>NaN</td>\n",
              "      <td>NaN</td>\n",
              "      <td>NaN</td>\n",
              "      <td>Capão Redondo</td>\n",
              "      <td>NaN</td>\n",
              "      <td>NaN</td>\n",
              "      <td>NaN</td>\n",
              "      <td>NaN</td>\n",
              "      <td>NaN</td>\n",
              "      <td>NaN</td>\n",
              "    </tr>\n",
              "    <tr>\n",
              "      <th>2</th>\n",
              "      <td>01/01/2012</td>\n",
              "      <td>03:00</td>\n",
              "      <td>NaN</td>\n",
              "      <td>NaN</td>\n",
              "      <td>NaN</td>\n",
              "      <td>Capão Redondo</td>\n",
              "      <td>NaN</td>\n",
              "      <td>NaN</td>\n",
              "      <td>NaN</td>\n",
              "      <td>NaN</td>\n",
              "      <td>NaN</td>\n",
              "      <td>NaN</td>\n",
              "    </tr>\n",
              "    <tr>\n",
              "      <th>3</th>\n",
              "      <td>01/01/2012</td>\n",
              "      <td>04:00</td>\n",
              "      <td>NaN</td>\n",
              "      <td>NaN</td>\n",
              "      <td>NaN</td>\n",
              "      <td>Capão Redondo</td>\n",
              "      <td>NaN</td>\n",
              "      <td>NaN</td>\n",
              "      <td>NaN</td>\n",
              "      <td>NaN</td>\n",
              "      <td>NaN</td>\n",
              "      <td>NaN</td>\n",
              "    </tr>\n",
              "    <tr>\n",
              "      <th>4</th>\n",
              "      <td>01/01/2012</td>\n",
              "      <td>05:00</td>\n",
              "      <td>NaN</td>\n",
              "      <td>NaN</td>\n",
              "      <td>NaN</td>\n",
              "      <td>Capão Redondo</td>\n",
              "      <td>NaN</td>\n",
              "      <td>NaN</td>\n",
              "      <td>NaN</td>\n",
              "      <td>NaN</td>\n",
              "      <td>NaN</td>\n",
              "      <td>NaN</td>\n",
              "    </tr>\n",
              "  </tbody>\n",
              "</table>\n",
              "</div>\n",
              "      <button class=\"colab-df-convert\" onclick=\"convertToInteractive('df-4bd43259-0221-465a-8fc1-53bb264d7116')\"\n",
              "              title=\"Convert this dataframe to an interactive table.\"\n",
              "              style=\"display:none;\">\n",
              "        \n",
              "  <svg xmlns=\"http://www.w3.org/2000/svg\" height=\"24px\"viewBox=\"0 0 24 24\"\n",
              "       width=\"24px\">\n",
              "    <path d=\"M0 0h24v24H0V0z\" fill=\"none\"/>\n",
              "    <path d=\"M18.56 5.44l.94 2.06.94-2.06 2.06-.94-2.06-.94-.94-2.06-.94 2.06-2.06.94zm-11 1L8.5 8.5l.94-2.06 2.06-.94-2.06-.94L8.5 2.5l-.94 2.06-2.06.94zm10 10l.94 2.06.94-2.06 2.06-.94-2.06-.94-.94-2.06-.94 2.06-2.06.94z\"/><path d=\"M17.41 7.96l-1.37-1.37c-.4-.4-.92-.59-1.43-.59-.52 0-1.04.2-1.43.59L10.3 9.45l-7.72 7.72c-.78.78-.78 2.05 0 2.83L4 21.41c.39.39.9.59 1.41.59.51 0 1.02-.2 1.41-.59l7.78-7.78 2.81-2.81c.8-.78.8-2.07 0-2.86zM5.41 20L4 18.59l7.72-7.72 1.47 1.35L5.41 20z\"/>\n",
              "  </svg>\n",
              "      </button>\n",
              "      \n",
              "  <style>\n",
              "    .colab-df-container {\n",
              "      display:flex;\n",
              "      flex-wrap:wrap;\n",
              "      gap: 12px;\n",
              "    }\n",
              "\n",
              "    .colab-df-convert {\n",
              "      background-color: #E8F0FE;\n",
              "      border: none;\n",
              "      border-radius: 50%;\n",
              "      cursor: pointer;\n",
              "      display: none;\n",
              "      fill: #1967D2;\n",
              "      height: 32px;\n",
              "      padding: 0 0 0 0;\n",
              "      width: 32px;\n",
              "    }\n",
              "\n",
              "    .colab-df-convert:hover {\n",
              "      background-color: #E2EBFA;\n",
              "      box-shadow: 0px 1px 2px rgba(60, 64, 67, 0.3), 0px 1px 3px 1px rgba(60, 64, 67, 0.15);\n",
              "      fill: #174EA6;\n",
              "    }\n",
              "\n",
              "    [theme=dark] .colab-df-convert {\n",
              "      background-color: #3B4455;\n",
              "      fill: #D2E3FC;\n",
              "    }\n",
              "\n",
              "    [theme=dark] .colab-df-convert:hover {\n",
              "      background-color: #434B5C;\n",
              "      box-shadow: 0px 1px 3px 1px rgba(0, 0, 0, 0.15);\n",
              "      filter: drop-shadow(0px 1px 2px rgba(0, 0, 0, 0.3));\n",
              "      fill: #FFFFFF;\n",
              "    }\n",
              "  </style>\n",
              "\n",
              "      <script>\n",
              "        const buttonEl =\n",
              "          document.querySelector('#df-4bd43259-0221-465a-8fc1-53bb264d7116 button.colab-df-convert');\n",
              "        buttonEl.style.display =\n",
              "          google.colab.kernel.accessAllowed ? 'block' : 'none';\n",
              "\n",
              "        async function convertToInteractive(key) {\n",
              "          const element = document.querySelector('#df-4bd43259-0221-465a-8fc1-53bb264d7116');\n",
              "          const dataTable =\n",
              "            await google.colab.kernel.invokeFunction('convertToInteractive',\n",
              "                                                     [key], {});\n",
              "          if (!dataTable) return;\n",
              "\n",
              "          const docLinkHtml = 'Like what you see? Visit the ' +\n",
              "            '<a target=\"_blank\" href=https://colab.research.google.com/notebooks/data_table.ipynb>data table notebook</a>'\n",
              "            + ' to learn more about interactive tables.';\n",
              "          element.innerHTML = '';\n",
              "          dataTable['output_type'] = 'display_data';\n",
              "          await google.colab.output.renderOutput(dataTable, element);\n",
              "          const docLink = document.createElement('div');\n",
              "          docLink.innerHTML = docLinkHtml;\n",
              "          element.appendChild(docLink);\n",
              "        }\n",
              "      </script>\n",
              "    </div>\n",
              "  </div>\n",
              "  "
            ]
          },
          "metadata": {},
          "execution_count": 84
        }
      ]
    },
    {
      "cell_type": "code",
      "source": [
        ""
      ],
      "metadata": {
        "id": "H70WDdjSpVJ_"
      },
      "execution_count": null,
      "outputs": []
    },
    {
      "cell_type": "code",
      "source": [
        ""
      ],
      "metadata": {
        "id": "IBwPbbu1pU8G"
      },
      "execution_count": null,
      "outputs": []
    },
    {
      "cell_type": "code",
      "source": [
        ""
      ],
      "metadata": {
        "id": "XGCmSJklpU4U"
      },
      "execution_count": null,
      "outputs": []
    },
    {
      "cell_type": "code",
      "source": [
        ""
      ],
      "metadata": {
        "id": "tTahXVG6pU0w"
      },
      "execution_count": null,
      "outputs": []
    },
    {
      "cell_type": "code",
      "source": [
        ""
      ],
      "metadata": {
        "id": "T3Si1Ko0pUxv"
      },
      "execution_count": null,
      "outputs": []
    },
    {
      "cell_type": "code",
      "source": [
        ""
      ],
      "metadata": {
        "id": "812KuJMlpUum"
      },
      "execution_count": null,
      "outputs": []
    },
    {
      "cell_type": "code",
      "source": [
        ""
      ],
      "metadata": {
        "id": "46uYmsBHpUpO"
      },
      "execution_count": null,
      "outputs": []
    },
    {
      "cell_type": "code",
      "source": [
        ""
      ],
      "metadata": {
        "id": "XEVi-L8npUhR"
      },
      "execution_count": null,
      "outputs": []
    },
    {
      "cell_type": "code",
      "source": [
        ""
      ],
      "metadata": {
        "id": "JzyRw7HDpUWx"
      },
      "execution_count": null,
      "outputs": []
    },
    {
      "cell_type": "code",
      "source": [
        "# df.to_csv('./df.csv')"
      ],
      "metadata": {
        "id": "5purK87lop4l"
      },
      "execution_count": 86,
      "outputs": []
    },
    {
      "cell_type": "code",
      "source": [
        "# !echo \"Total number of lines:\"\n",
        "# !cat df.csv | wc -l"
      ],
      "metadata": {
        "id": "-CZ3WZkXn7GZ"
      },
      "execution_count": 88,
      "outputs": []
    }
  ]
}