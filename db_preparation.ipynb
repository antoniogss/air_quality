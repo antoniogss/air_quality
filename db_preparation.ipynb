{
  "nbformat": 4,
  "nbformat_minor": 0,
  "metadata": {
    "colab": {
      "name": "db_preparation.ipynb",
      "provenance": [],
      "authorship_tag": "ABX9TyOEVGjv0iOC1B/8xJdlHjkf",
      "include_colab_link": true
    },
    "kernelspec": {
      "name": "python3",
      "display_name": "Python 3"
    },
    "language_info": {
      "name": "python"
    }
  },
  "cells": [
    {
      "cell_type": "markdown",
      "metadata": {
        "id": "view-in-github",
        "colab_type": "text"
      },
      "source": [
        "<a href=\"https://colab.research.google.com/github/antoniogss/air_quality/blob/main/db_preparation.ipynb\" target=\"_parent\"><img src=\"https://colab.research.google.com/assets/colab-badge.svg\" alt=\"Open In Colab\"/></a>"
      ]
    },
    {
      "cell_type": "code",
      "execution_count": null,
      "metadata": {
        "id": "8K-3i4ABzvU6"
      },
      "outputs": [],
      "source": [
        "import pandas as pd\n",
        "import numpy as np\n",
        "import warnings as war\n",
        "import google.colab as gc\n",
        "import matplotlib.pyplot as plt\n",
        "\n",
        "from google.colab import files #Upload files into the notebook\n",
        "from glob import glob\n",
        "from datetime import date, time, datetime, timedelta\n",
        "from functools import reduce\n",
        "from matplotlib import dates, rcParams\n",
        "\n",
        "# Will make your plot outputs appear and be stored within the notebook\n",
        "%matplotlib inline \n",
        "\n",
        "war.filterwarnings('ignore')"
      ]
    },
    {
      "cell_type": "markdown",
      "source": [
        "#Google Drive connection"
      ],
      "metadata": {
        "id": "qc8dw5X2_LRv"
      }
    },
    {
      "cell_type": "code",
      "source": [
        "gc.drive.mount('./gdrive/', \n",
        "               force_remount=True\n",
        "              )\n",
        "gc.output.clear()"
      ],
      "metadata": {
        "id": "qeOv-U4--xOF"
      },
      "execution_count": null,
      "outputs": []
    },
    {
      "cell_type": "markdown",
      "source": [
        "#Downloading files"
      ],
      "metadata": {
        "id": "157Z4ExT_ix0"
      }
    },
    {
      "cell_type": "code",
      "source": [
        "%cd ./gdrive/MyDrive/air_quality/datasets/\n",
        "gc.output.clear()\n",
        "%pwd"
      ],
      "metadata": {
        "colab": {
          "base_uri": "https://localhost:8080/",
          "height": 35
        },
        "id": "NEJSwmd1_lI-",
        "outputId": "f35b50fd-fe37-4bdd-a893-9c64cf89d420"
      },
      "execution_count": null,
      "outputs": [
        {
          "output_type": "execute_result",
          "data": {
            "text/plain": [
              "'/content/gdrive/MyDrive/air_quality/datasets'"
            ],
            "application/vnd.google.colaboratory.intrinsic+json": {
              "type": "string"
            }
          },
          "metadata": {},
          "execution_count": 3
        }
      ]
    },
    {
      "cell_type": "code",
      "source": [
        "# files.upload()\n",
        "# gc.output.clear()\n",
        "# %ls {a,b,c}*.csv\n",
        "!echo \"Number of uploaded files:\" \n",
        "%ls | wc -l"
      ],
      "metadata": {
        "colab": {
          "base_uri": "https://localhost:8080/"
        },
        "id": "XOiUNu1vACpU",
        "outputId": "ca25ea5a-a28d-405f-aa16-97dab604e905"
      },
      "execution_count": null,
      "outputs": [
        {
          "output_type": "stream",
          "name": "stdout",
          "text": [
            "Number of uploaded files:\n",
            "107\n"
          ]
        }
      ]
    },
    {
      "cell_type": "markdown",
      "source": [
        "#Remove all headers"
      ],
      "metadata": {
        "id": "XJ_PMdTEAbcb"
      }
    },
    {
      "cell_type": "code",
      "source": [
        "# !sed -i '1,7d' *.csv\n",
        "\n",
        "# !echo \"Number of lines | file\"\n",
        "# !echo -e \"\\n\"\n",
        "# !wc -l *{12..21}.csv\n",
        "!echo \"Total number of lines in multiple files:\"\n",
        "!cat *.csv | wc -l"
      ],
      "metadata": {
        "colab": {
          "base_uri": "https://localhost:8080/"
        },
        "id": "kXPqPc59Ad_O",
        "outputId": "40763f52-7e28-4c22-f8db-601e1a2376bd"
      },
      "execution_count": null,
      "outputs": [
        {
          "output_type": "stream",
          "name": "stdout",
          "text": [
            "Total number of lines in multiple files:\n",
            "cat: '*.csv': No such file or directory\n",
            "0\n"
          ]
        }
      ]
    },
    {
      "cell_type": "markdown",
      "source": [
        "#Concatenating files"
      ],
      "metadata": {
        "id": "fjUaImfPK4PW"
      }
    },
    {
      "cell_type": "code",
      "source": [
        "# %mkdir \"./created_datasets/\"\n",
        "%cd ./created_datasets/\n",
        "gc.output.clear()\n",
        "%pwd"
      ],
      "metadata": {
        "colab": {
          "base_uri": "https://localhost:8080/",
          "height": 35
        },
        "id": "e6tetu5UK7Q5",
        "outputId": "29b6f634-78f1-4bcd-8fea-bbca70c457f0"
      },
      "execution_count": null,
      "outputs": [
        {
          "output_type": "execute_result",
          "data": {
            "text/plain": [
              "'/content/gdrive/MyDrive/air_quality/datasets/created_datasets'"
            ],
            "application/vnd.google.colaboratory.intrinsic+json": {
              "type": "string"
            }
          },
          "metadata": {},
          "execution_count": 6
        }
      ]
    }
  ]
}