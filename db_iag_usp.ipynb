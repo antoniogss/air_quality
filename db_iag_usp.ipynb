{
  "nbformat": 4,
  "nbformat_minor": 0,
  "metadata": {
    "colab": {
      "provenance": [],
      "authorship_tag": "ABX9TyNVTllN0WFrbFj+y/2CUvM9",
      "include_colab_link": true
    },
    "kernelspec": {
      "name": "python3",
      "display_name": "Python 3"
    },
    "language_info": {
      "name": "python"
    }
  },
  "cells": [
    {
      "cell_type": "markdown",
      "metadata": {
        "id": "view-in-github",
        "colab_type": "text"
      },
      "source": [
        "<a href=\"https://colab.research.google.com/github/antoniogss/air_quality/blob/main/db_iag_usp.ipynb\" target=\"_parent\"><img src=\"https://colab.research.google.com/assets/colab-badge.svg\" alt=\"Open In Colab\"/></a>"
      ]
    },
    {
      "cell_type": "markdown",
      "source": [
        "#Notebook imports and packages"
      ],
      "metadata": {
        "id": "kXE9_NfRaxTd"
      }
    },
    {
      "cell_type": "code",
      "execution_count": 1,
      "metadata": {
        "id": "kJlWjabLXkCn"
      },
      "outputs": [],
      "source": [
        "import pandas as pd\n",
        "import numpy as np\n",
        "import warnings as war\n",
        "import google.colab as gc\n",
        "import matplotlib.pyplot as plt\n",
        "import seaborn as sns\n",
        "\n",
        "from google.colab import files #Upload files into the notebook\n",
        "from glob import glob\n",
        "from datetime import date, time, datetime, timedelta\n",
        "from functools import reduce\n",
        "from matplotlib import dates, rcParams\n",
        "from datetime import date, time, datetime, timedelta\n",
        "\n",
        "war.filterwarnings('ignore')"
      ]
    },
    {
      "cell_type": "markdown",
      "source": [
        "#Google Drive connection"
      ],
      "metadata": {
        "id": "ptWsvDqka9Lz"
      }
    },
    {
      "cell_type": "code",
      "source": [
        "gc.drive.mount('./gdrive/', \n",
        "               force_remount=True\n",
        "              )\n",
        "gc.output.clear()"
      ],
      "metadata": {
        "id": "cxDnIg76a-MW"
      },
      "execution_count": 2,
      "outputs": []
    },
    {
      "cell_type": "markdown",
      "source": [
        "#Downloading files"
      ],
      "metadata": {
        "id": "xvK7bUswbY9R"
      }
    },
    {
      "cell_type": "code",
      "source": [
        "%cd ./gdrive/MyDrive/air_quality/datasets/iag_usp/\n",
        "!echo -e \"\\n\"\n",
        "%ls -d */"
      ],
      "metadata": {
        "colab": {
          "base_uri": "https://localhost:8080/"
        },
        "id": "NX9oJglXbZ7S",
        "outputId": "d2cf15b1-6692-48e0-8614-fb7bf4dccd36"
      },
      "execution_count": 3,
      "outputs": [
        {
          "output_type": "stream",
          "name": "stdout",
          "text": [
            "/content/gdrive/MyDrive/air_quality/datasets/iag_usp\n",
            "\n",
            "\n",
            "dados_iag_usp.zip  \u001b[0m\u001b[01;34miag_usp_unzip\u001b[0m/\n"
          ]
        }
      ]
    },
    {
      "cell_type": "markdown",
      "source": [
        "##Extracting a zip file"
      ],
      "metadata": {
        "id": "zRxD7935b_FT"
      }
    },
    {
      "cell_type": "code",
      "source": [
        "# # importing required modules\n",
        "# from zipfile import ZipFile\n",
        "  \n",
        "# # specifying the zip file name\n",
        "# file_name = \"dados_iag_usp.zip\"\n",
        "  \n",
        "# # opening the zip file in READ mode\n",
        "# with ZipFile(file_name, 'r') as zip:\n",
        "#     # printing all the contents of the zip file\n",
        "#     zip.printdir()\n",
        "  \n",
        "#     # extracting all the files\n",
        "#     print('Extracting all the files now...')\n",
        "#     zip.extractall()\n",
        "#     print('Done!')"
      ],
      "metadata": {
        "id": "sWpwKJdhcCpJ"
      },
      "execution_count": 4,
      "outputs": []
    },
    {
      "cell_type": "markdown",
      "source": [
        "##Rename directory"
      ],
      "metadata": {
        "id": "p0X8R1VWelUq"
      }
    },
    {
      "cell_type": "code",
      "source": [
        "# %mv '55_Antonio Guerreiro Silva Serrano - 694'/ iag_usp_unzip"
      ],
      "metadata": {
        "id": "gJM5stjKeHay"
      },
      "execution_count": 5,
      "outputs": []
    },
    {
      "cell_type": "markdown",
      "source": [
        "##Load the csv file into a DF"
      ],
      "metadata": {
        "id": "pH4OWKs_fBXt"
      }
    },
    {
      "cell_type": "code",
      "source": [
        "%cd ./iag_usp_unzip/\n",
        "!echo -e \"\\n\"\n",
        "%ls -d */"
      ],
      "metadata": {
        "colab": {
          "base_uri": "https://localhost:8080/"
        },
        "id": "EJOw71rcfCpc",
        "outputId": "bc1f6aa1-eee4-4237-a306-86fbfccef3a5"
      },
      "execution_count": 6,
      "outputs": [
        {
          "output_type": "stream",
          "name": "stdout",
          "text": [
            "/content/gdrive/MyDrive/air_quality/datasets/iag_usp/iag_usp_unzip\n",
            "\n",
            "\n",
            "\u001b[0m\u001b[01;34mirrad_insol_2012-2021/\u001b[0m/  \u001b[01;34mtemp_2012-2021/\u001b[0m/  \u001b[01;34mvento_2012-2021/\u001b[0m/\n",
            "\u001b[01;34mprec_2012-2021/\u001b[0m/         \u001b[01;34mur_2012-2021/\u001b[0m/\n"
          ]
        }
      ]
    },
    {
      "cell_type": "markdown",
      "source": [
        "##Rename directories"
      ],
      "metadata": {
        "id": "RwFM3f8YgC1K"
      }
    },
    {
      "cell_type": "code",
      "source": [
        "# %mv 'Irrad e Insol 2012 a 2021'/ irrad_insol_2012-2021\n",
        "# %mv 'Prec 2012 a 2021'/ prec_2012-2021\n",
        "# %mv 'Temp 2012 a 2021'/ temp_2012-2021\n",
        "# %mv 'UR 2012 a 2021'/ ur_2012-2021\n",
        "# %mv 'Vento 2012 a 2021'/ vento_2012-2021"
      ],
      "metadata": {
        "id": "q2bldnhLgGj2"
      },
      "execution_count": 7,
      "outputs": []
    },
    {
      "cell_type": "markdown",
      "source": [
        "##Rename files"
      ],
      "metadata": {
        "id": "SlCCnDrpfkGD"
      }
    },
    {
      "cell_type": "code",
      "source": [
        "%cd ./irrad_insol_2012-2021/\n",
        "!echo -e \"\\n\"\n",
        "%ls"
      ],
      "metadata": {
        "colab": {
          "base_uri": "https://localhost:8080/"
        },
        "id": "R_EUXZ17fwtR",
        "outputId": "53d0c9ae-6678-44a7-8690-a01ec4a1ea86"
      },
      "execution_count": 8,
      "outputs": [
        {
          "output_type": "stream",
          "name": "stdout",
          "text": [
            "/content/gdrive/MyDrive/air_quality/datasets/iag_usp/iag_usp_unzip/irrad_insol_2012-2021\n",
            "\n",
            "\n",
            "insol_2012-2021.xls  irrad_2012-2021.xls\n"
          ]
        }
      ]
    },
    {
      "cell_type": "code",
      "source": [
        "# %mv 'Insolaç╞o 2012 a 2021.xls' insol_2012-2021.xls\n",
        "# %mv 'Irradiaç╞o 2012 a 2021.xls' irrad_2012-2021.xls\n",
        "# %ls"
      ],
      "metadata": {
        "id": "rAqYao-Ph4gj"
      },
      "execution_count": 9,
      "outputs": []
    },
    {
      "cell_type": "code",
      "source": [
        "%cd .. \n",
        "%cd prec_2012-2021\n",
        "# !echo -e \"\\n\"\n",
        "# %ls"
      ],
      "metadata": {
        "colab": {
          "base_uri": "https://localhost:8080/"
        },
        "id": "XSUB0rr0iwet",
        "outputId": "c24a4752-f487-441c-d74e-097b9398f494"
      },
      "execution_count": 10,
      "outputs": [
        {
          "output_type": "stream",
          "name": "stdout",
          "text": [
            "/content/gdrive/MyDrive/air_quality/datasets/iag_usp/iag_usp_unzip\n",
            "/content/gdrive/MyDrive/air_quality/datasets/iag_usp/iag_usp_unzip/prec_2012-2021\n"
          ]
        }
      ]
    },
    {
      "cell_type": "code",
      "source": [
        "#runs the entire cell as a command in a shell\n",
        "%%shell \n",
        "\n",
        "# i=2012\n",
        "# for fi in Pc*.xls; do\n",
        "#   mv \"$fi\" prec_$i.xls\n",
        "#    i=$((i+1))\n",
        "# done\n",
        "\n",
        "ls"
      ],
      "metadata": {
        "colab": {
          "base_uri": "https://localhost:8080/"
        },
        "id": "LttgGw3Cj-ny",
        "outputId": "e21952aa-fe7b-430f-e9ca-25429de8bd52"
      },
      "execution_count": 11,
      "outputs": [
        {
          "output_type": "stream",
          "name": "stdout",
          "text": [
            "prec_2012.xls  prec_2014.xls  prec_2016.xls  prec_2018.xls  prec_2020.xls\n",
            "prec_2013.xls  prec_2015.xls  prec_2017.xls  prec_2019.xls  prec_2021.xls\n"
          ]
        },
        {
          "output_type": "execute_result",
          "data": {
            "text/plain": []
          },
          "metadata": {},
          "execution_count": 11
        }
      ]
    },
    {
      "cell_type": "code",
      "source": [
        "%cd .. \n",
        "%cd temp_2012-2021\n",
        "# !echo -e \"\\n\"\n",
        "# %ls"
      ],
      "metadata": {
        "colab": {
          "base_uri": "https://localhost:8080/"
        },
        "id": "C4Pf6OQxn9lx",
        "outputId": "bbfa8497-b94d-4953-8934-974483bf6b6e"
      },
      "execution_count": 12,
      "outputs": [
        {
          "output_type": "stream",
          "name": "stdout",
          "text": [
            "/content/gdrive/MyDrive/air_quality/datasets/iag_usp/iag_usp_unzip\n",
            "/content/gdrive/MyDrive/air_quality/datasets/iag_usp/iag_usp_unzip/temp_2012-2021\n"
          ]
        }
      ]
    },
    {
      "cell_type": "code",
      "source": [
        "%%shell \n",
        "\n",
        "# i=2012\n",
        "# for fi in *.xls; do\n",
        "#   mv \"$fi\" temp_$i.xls\n",
        "#    i=$((i+1))\n",
        "# done\n",
        "\n",
        "ls"
      ],
      "metadata": {
        "colab": {
          "base_uri": "https://localhost:8080/"
        },
        "id": "_j5Aw5oModXe",
        "outputId": "bb3f4dc1-f7c9-47c9-f592-a5b6a51b8191"
      },
      "execution_count": 13,
      "outputs": [
        {
          "output_type": "stream",
          "name": "stdout",
          "text": [
            "temp_2012.xls  temp_2014.xls  temp_2016.xls  temp_2018.xls  temp_2020.xls\n",
            "temp_2013.xls  temp_2015.xls  temp_2017.xls  temp_2019.xls  temp_2021.xls\n"
          ]
        },
        {
          "output_type": "execute_result",
          "data": {
            "text/plain": []
          },
          "metadata": {},
          "execution_count": 13
        }
      ]
    },
    {
      "cell_type": "code",
      "source": [
        "%cd .. \n",
        "%cd ur_2012-2021\n",
        "# !echo -e \"\\n\"\n",
        "# %ls"
      ],
      "metadata": {
        "colab": {
          "base_uri": "https://localhost:8080/"
        },
        "id": "XqBuRbYqpbj1",
        "outputId": "ff040351-f0af-4ab7-d8d5-f1571c97dd8c"
      },
      "execution_count": 14,
      "outputs": [
        {
          "output_type": "stream",
          "name": "stdout",
          "text": [
            "/content/gdrive/MyDrive/air_quality/datasets/iag_usp/iag_usp_unzip\n",
            "/content/gdrive/MyDrive/air_quality/datasets/iag_usp/iag_usp_unzip/ur_2012-2021\n"
          ]
        }
      ]
    },
    {
      "cell_type": "code",
      "source": [
        "%%shell \n",
        "\n",
        "# i=2012\n",
        "# for fi in *.xls; do\n",
        "#   mv \"$fi\" ur_$i.xls\n",
        "#    i=$((i+1))\n",
        "# done\n",
        "\n",
        "ls"
      ],
      "metadata": {
        "colab": {
          "base_uri": "https://localhost:8080/"
        },
        "id": "6Qa0OKtBpj0l",
        "outputId": "38505a32-0f69-4345-81e2-096d80959c47"
      },
      "execution_count": 15,
      "outputs": [
        {
          "output_type": "stream",
          "name": "stdout",
          "text": [
            "ur_2012.xls  ur_2014.xls  ur_2016.xls  ur_2018.xls  ur_2020.xls\n",
            "ur_2013.xls  ur_2015.xls  ur_2017.xls  ur_2019.xls  ur_2021.xls\n"
          ]
        },
        {
          "output_type": "execute_result",
          "data": {
            "text/plain": []
          },
          "metadata": {},
          "execution_count": 15
        }
      ]
    },
    {
      "cell_type": "code",
      "source": [
        "%cd .. \n",
        "%cd vento_2012-2021\n",
        "# !echo -e \"\\n\"\n",
        "# %ls"
      ],
      "metadata": {
        "colab": {
          "base_uri": "https://localhost:8080/"
        },
        "id": "a_pB4SUpp7Q5",
        "outputId": "0932a8a3-958c-47cb-d5ca-ad8f0dc260b5"
      },
      "execution_count": 16,
      "outputs": [
        {
          "output_type": "stream",
          "name": "stdout",
          "text": [
            "/content/gdrive/MyDrive/air_quality/datasets/iag_usp/iag_usp_unzip\n",
            "/content/gdrive/MyDrive/air_quality/datasets/iag_usp/iag_usp_unzip/vento_2012-2021\n"
          ]
        }
      ]
    },
    {
      "cell_type": "code",
      "source": [
        "%%shell \n",
        "\n",
        "#Replace spaces in file names\n",
        "# for f in *\\ *; do mv \"$f\" \"${f// /_}\"; done\n",
        "#ls"
      ],
      "metadata": {
        "colab": {
          "base_uri": "https://localhost:8080/"
        },
        "id": "17i-3vJLrGLU",
        "outputId": "c62a90a4-c2a0-46c9-c79d-8a6ac82a2fb0"
      },
      "execution_count": 17,
      "outputs": [
        {
          "output_type": "execute_result",
          "data": {
            "text/plain": []
          },
          "metadata": {},
          "execution_count": 17
        }
      ]
    },
    {
      "cell_type": "markdown",
      "source": [
        "##Rename subdirectories"
      ],
      "metadata": {
        "id": "sJ-xj3ehwwp8"
      }
    },
    {
      "cell_type": "code",
      "source": [
        "%%shell \n",
        "\n",
        "# i=2012\n",
        "# for fi in  *_V_F_S; do\n",
        "#   mv \"$fi\" vento_$i\n",
        "#    i=$((i+1))\n",
        "# done\n",
        "\n",
        "ls"
      ],
      "metadata": {
        "colab": {
          "base_uri": "https://localhost:8080/"
        },
        "id": "XGbXthh7p25A",
        "outputId": "8e728f42-fec9-4a3b-f210-adec0522fdac"
      },
      "execution_count": 18,
      "outputs": [
        {
          "output_type": "stream",
          "name": "stdout",
          "text": [
            "vento_2012  vento_2014\tvento_2016  vento_2018\tvento_2020\n",
            "vento_2013  vento_2015\tvento_2017  vento_2019\tvento_2021\n"
          ]
        },
        {
          "output_type": "execute_result",
          "data": {
            "text/plain": []
          },
          "metadata": {},
          "execution_count": 18
        }
      ]
    }
  ]
}