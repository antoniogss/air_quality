{
  "nbformat": 4,
  "nbformat_minor": 0,
  "metadata": {
    "colab": {
      "provenance": [],
      "authorship_tag": "ABX9TyPTeUr0/91beyE26rjAMbOV",
      "include_colab_link": true
    },
    "kernelspec": {
      "name": "python3",
      "display_name": "Python 3"
    },
    "language_info": {
      "name": "python"
    }
  },
  "cells": [
    {
      "cell_type": "markdown",
      "metadata": {
        "id": "view-in-github",
        "colab_type": "text"
      },
      "source": [
        "<a href=\"https://colab.research.google.com/github/antoniogss/air_quality/blob/main/neural_network_forecasting.ipynb\" target=\"_parent\"><img src=\"https://colab.research.google.com/assets/colab-badge.svg\" alt=\"Open In Colab\"/></a>"
      ]
    },
    {
      "cell_type": "code",
      "execution_count": null,
      "metadata": {
        "id": "3iAq4Z7EgA0r"
      },
      "outputs": [],
      "source": [
        "import pandas as pd\n",
        "import numpy as np\n",
        "import warnings as war\n",
        "import google.colab as gc\n",
        "import matplotlib.pyplot as plt\n",
        "import seaborn as sns\n",
        "import datetime as dt\n",
        "import plotly.express as px\n",
        "import matplotlib.dates as mdates\n",
        "\n",
        "from google.colab import files #Upload files into the notebook\n",
        "from glob import glob\n",
        "from datetime import date, time, datetime, timedelta\n",
        "from functools import reduce\n",
        "from matplotlib import dates, rcParams\n",
        "from scipy.stats import linregress\n",
        "from sklearn import linear_model\n",
        "from statsmodels.tsa.seasonal import seasonal_decompose\n",
        "from sklearn.impute import KNNImputer\n",
        "\n",
        "war.filterwarnings('ignore')\n",
        "\n",
        "gc.output.clear()"
      ]
    }
  ]
}