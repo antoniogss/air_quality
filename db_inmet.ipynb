{
  "nbformat": 4,
  "nbformat_minor": 0,
  "metadata": {
    "colab": {
      "name": "db_inmet.ipynb",
      "provenance": [],
      "authorship_tag": "ABX9TyPrOMh1ck/z5D7zhr5QjiEF",
      "include_colab_link": true
    },
    "kernelspec": {
      "name": "python3",
      "display_name": "Python 3"
    },
    "language_info": {
      "name": "python"
    }
  },
  "cells": [
    {
      "cell_type": "markdown",
      "metadata": {
        "id": "view-in-github",
        "colab_type": "text"
      },
      "source": [
        "<a href=\"https://colab.research.google.com/github/antoniogss/air_quality/blob/main/db_inmet.ipynb\" target=\"_parent\"><img src=\"https://colab.research.google.com/assets/colab-badge.svg\" alt=\"Open In Colab\"/></a>"
      ]
    },
    {
      "cell_type": "markdown",
      "source": [
        "#Notebook imports and packages"
      ],
      "metadata": {
        "id": "vclcd71NhLAq"
      }
    },
    {
      "cell_type": "code",
      "execution_count": null,
      "metadata": {
        "id": "W6fvLxezgQvt"
      },
      "outputs": [],
      "source": [
        "import pandas as pd\n",
        "import numpy as np\n",
        "import warnings as war\n",
        "import google.colab as gc\n",
        "import matplotlib.pyplot as plt\n",
        "import seaborn as sns\n",
        "\n",
        "from google.colab import files #Upload files into the notebook\n",
        "from glob import glob\n",
        "from datetime import date, time, datetime, timedelta\n",
        "from functools import reduce\n",
        "from matplotlib import dates, rcParams\n",
        "from datetime import date, time, datetime, timedelta\n",
        "\n",
        "war.filterwarnings('ignore')"
      ]
    },
    {
      "cell_type": "markdown",
      "source": [
        "#Google Drive connection"
      ],
      "metadata": {
        "id": "JyuKPcp_hTJP"
      }
    },
    {
      "cell_type": "code",
      "source": [
        "gc.drive.mount('./gdrive/', \n",
        "               force_remount=True\n",
        "              )\n",
        "gc.output.clear()"
      ],
      "metadata": {
        "id": "Ylo867WqhT0j"
      },
      "execution_count": null,
      "outputs": []
    },
    {
      "cell_type": "markdown",
      "source": [
        "#Downloading files"
      ],
      "metadata": {
        "id": "ljSyEJFMheIF"
      }
    },
    {
      "cell_type": "code",
      "source": [
        "%cd ./gdrive/MyDrive/air_quality/datasets/inmet/"
      ],
      "metadata": {
        "colab": {
          "base_uri": "https://localhost:8080/"
        },
        "id": "aegv6mpyhW9Z",
        "outputId": "1f956104-a795-43e8-d189-e058bd4202a4"
      },
      "execution_count": null,
      "outputs": [
        {
          "output_type": "stream",
          "name": "stdout",
          "text": [
            "/content/gdrive/MyDrive/air_quality/datasets/inmet\n"
          ]
        }
      ]
    },
    {
      "cell_type": "code",
      "source": [
        "# files.upload()\n",
        "# gc.output.clear()\n",
        "\n",
        "!echo \"Number of uploaded files:\" \n",
        "%ll *.csv | wc -l\n",
        "!echo -e \"\\n\"\n",
        "\n",
        "!echo \"Total number of lines in multiple files:\"\n",
        "!cat *.csv | wc -l"
      ],
      "metadata": {
        "colab": {
          "base_uri": "https://localhost:8080/"
        },
        "id": "pVJ1GQnZh7o1",
        "outputId": "e9ffc08f-7b8d-4bb0-dc93-b0b77f46c031"
      },
      "execution_count": null,
      "outputs": [
        {
          "output_type": "stream",
          "name": "stdout",
          "text": [
            "Number of uploaded files:\n",
            "2\n",
            "\n",
            "\n",
            "Total number of lines in multiple files:\n",
            "3789\n"
          ]
        }
      ]
    },
    {
      "cell_type": "markdown",
      "source": [
        "#Removing headers"
      ],
      "metadata": {
        "id": "BHzR1b1AjGRr"
      }
    },
    {
      "cell_type": "code",
      "source": [
        "# !sed -i '1,10d' *.csv "
      ],
      "metadata": {
        "id": "8inFTEiKjBpr"
      },
      "execution_count": null,
      "outputs": []
    },
    {
      "cell_type": "markdown",
      "source": [
        "#Load the csv file into a DF"
      ],
      "metadata": {
        "id": "AD6vzDZBkI4s"
      }
    },
    {
      "cell_type": "markdown",
      "source": [
        "##Daily Mean"
      ],
      "metadata": {
        "id": "gz6is1Rrkx0b"
      }
    },
    {
      "cell_type": "code",
      "source": [
        "inmet_dia = pd.read_csv(  \"./inmet_dia.csv\", \n",
        "                          sep = ';', \n",
        "                          header = None, \n",
        "                          error_bad_lines = False,\n",
        "                          encoding='latin-1'\n",
        ")\n",
        "\n",
        "#make second row header in pandas\n",
        "new_header = inmet_dia.iloc[0] #grab the first row for the header\n",
        "inmet_dia = inmet_dia[1:] #take the data less the header row\n",
        "inmet_dia.columns = new_header #set the header row as the df header\n",
        "inmet_dia.rename(columns=inmet_dia.iloc[0])\n",
        "\n",
        "# Drop last column of a dataframe\n",
        "inmet_dia = inmet_dia.iloc[: , :-1]\n",
        "\n",
        "# inmet_dia.head()"
      ],
      "metadata": {
        "id": "NZWdA0hDkJsZ"
      },
      "execution_count": null,
      "outputs": []
    },
    {
      "cell_type": "markdown",
      "source": [
        "##Monthly Mean"
      ],
      "metadata": {
        "id": "NqaM8xrjk68v"
      }
    },
    {
      "cell_type": "code",
      "source": [
        "inmet_mes = pd.read_csv(  \"./inmet_mes.csv\", \n",
        "                          sep = ';', \n",
        "                          header = None, \n",
        "                          error_bad_lines = False,\n",
        "                          encoding='latin-1'\n",
        ")\n",
        "\n",
        "#make second row header in pandas\n",
        "new_header = inmet_mes.iloc[0] #grab the first row for the header\n",
        "inmet_mes = inmet_mes[1:] #take the data less the header row\n",
        "inmet_mes.columns = new_header #set the header row as the df header\n",
        "inmet_mes.rename(columns=inmet_mes.iloc[0])\n",
        "\n",
        "# Drop last column of a dataframe\n",
        "inmet_mes = inmet_mes.iloc[: , :-1]\n",
        "\n",
        "# inmet_mes.head()"
      ],
      "metadata": {
        "id": "VYYE7Inhk9NS"
      },
      "execution_count": null,
      "outputs": []
    },
    {
      "cell_type": "markdown",
      "source": [
        "#Mapping NaN values"
      ],
      "metadata": {
        "id": "C3QCJnASmtZQ"
      }
    },
    {
      "cell_type": "code",
      "source": [
        "fig, ax = plt.subplots(figsize=(15,10)) \n",
        "\n",
        "sns.heatmap(inmet_dia.isnull(),\n",
        "            yticklabels=False,\n",
        "            cbar=False,\n",
        "            cmap='viridis',\n",
        "            ax=ax\n",
        "          );"
      ],
      "metadata": {
        "colab": {
          "base_uri": "https://localhost:8080/",
          "height": 844
        },
        "id": "gAepx7KVmxWm",
        "outputId": "3ee5c85d-9272-4971-ebda-6e86d2e4159a"
      },
      "execution_count": null,
      "outputs": [
        {
          "output_type": "display_data",
          "data": {
            "text/plain": [
              "<Figure size 1080x720 with 1 Axes>"
            ],
            "image/png": "[encoded data removed]"
          },
          "metadata": {
            "needs_background": "light"
          }
        }
      ]
    },
    {
      "cell_type": "code",
      "source": [
        "fig, ax = plt.subplots(figsize=(15,10)) \n",
        "\n",
        "sns.heatmap(inmet_mes.isnull(),\n",
        "            yticklabels=False,\n",
        "            cbar=False,\n",
        "            cmap='viridis',\n",
        "            ax=ax\n",
        "           );"
      ],
      "metadata": {
        "colab": {
          "base_uri": "https://localhost:8080/",
          "height": 877
        },
        "id": "feTSWH_3lvpb",
        "outputId": "610221c4-1228-4c78-a6c8-0c3419bd6d71"
      },
      "execution_count": null,
      "outputs": [
        {
          "output_type": "display_data",
          "data": {
            "text/plain": [
              "<Figure size 1080x720 with 1 Axes>"
            ],
            "image/png": "[encoded data removed]"
          },
          "metadata": {
            "needs_background": "light"
          }
        }
      ]
    },
    {
      "cell_type": "markdown",
      "source": [
        "#Changing commas to dot"
      ],
      "metadata": {
        "id": "w3d25m4yqiAy"
      }
    },
    {
      "cell_type": "code",
      "source": [
        "inmet_dia = inmet_dia.replace({',' : '.'}, regex = True)\n",
        "\n",
        "inmet_mes = inmet_mes.replace({',' : '.'}, regex = True)"
      ],
      "metadata": {
        "id": "Np4KfWY2qiqv"
      },
      "execution_count": null,
      "outputs": []
    },
    {
      "cell_type": "markdown",
      "source": [
        "#Converting string to float"
      ],
      "metadata": {
        "id": "G1PKoHOnraQm"
      }
    },
    {
      "cell_type": "code",
      "source": [
        "#Convert all float columns in dataframe but except the first column\n",
        "cols = inmet_dia.columns\n",
        "inmet_dia[cols[1:]] = inmet_dia[cols[1:]].apply(pd.to_numeric, errors='coerce')\n",
        "\n",
        "cols = inmet_mes.columns\n",
        "inmet_mes[cols[1:]] = inmet_mes[cols[1:]].apply(pd.to_numeric, errors='coerce')\n",
        "\n",
        "# print(inmet_dia.dtypes, inmet_mes.dtypes)"
      ],
      "metadata": {
        "id": "0o-_lqjjrUqm"
      },
      "execution_count": null,
      "outputs": []
    },
    {
      "cell_type": "markdown",
      "source": [
        "#Formatting dates and times"
      ],
      "metadata": {
        "id": "zJimWTX3suKw"
      }
    },
    {
      "cell_type": "code",
      "source": [
        "inmet_dia['Data Medicao'] = pd.to_datetime(inmet_dia['Data Medicao'])\n",
        "inmet_mes['Data Medicao'] = pd.to_datetime(inmet_mes['Data Medicao'])"
      ],
      "metadata": {
        "id": "McHRtd3rsvBd"
      },
      "execution_count": null,
      "outputs": []
    },
    {
      "cell_type": "markdown",
      "source": [
        "#Adding the column  days of the week"
      ],
      "metadata": {
        "id": "0YPnt2T9CzKv"
      }
    },
    {
      "cell_type": "code",
      "source": [
        "dias_ptbr = {\n",
        "              'Sunday':'Domingo', \n",
        "              'Monday':'Segunda-feira', \n",
        "              'Tuesday':'Terça-feira', \n",
        "              'Wednesday':'Quarta-feira', \n",
        "              'Thursday':'Quinta-feira', \n",
        "              'Friday':'Sexta-feira', \n",
        "              'Saturday':'Sábado'\n",
        "}\n",
        "\n",
        "inmet_dia['dia_da_semana'] = inmet_dia['Data Medicao'].dt.day_name().replace(dias_ptbr)\n",
        "# inmet_dia.head()"
      ],
      "metadata": {
        "id": "m0z3Qz6bCzwI"
      },
      "execution_count": null,
      "outputs": []
    },
    {
      "cell_type": "markdown",
      "source": [
        "#Adding the column month"
      ],
      "metadata": {
        "id": "0aVlKUTHE1Dy"
      }
    },
    {
      "cell_type": "code",
      "source": [
        "mes_ptbr = {'January':'Janeiro', \n",
        "             'February':'Fevereiro', \n",
        "             'March':'Março', \n",
        "             'April':'Abril', \n",
        "             'May':'Maio', \n",
        "             'June':'Junho', \n",
        "             'July':'Julho',\n",
        "             'August':'Agosto', \n",
        "             'September':'Setembro',\n",
        "             'October':'Outubro', \n",
        "             'November':'Novembro',\n",
        "             'December':'Dezembro'}\n",
        "\n",
        "inmet_mes['mes'] = inmet_mes['Data Medicao'].dt.month_name().replace(mes_ptbr)\n",
        "# inmet_mes.head()"
      ],
      "metadata": {
        "id": "ifIF67huE3s6"
      },
      "execution_count": null,
      "outputs": []
    },
    {
      "cell_type": "markdown",
      "source": [
        "#Renaming columns"
      ],
      "metadata": {
        "id": "yktpS5kVHGY_"
      }
    },
    {
      "cell_type": "code",
      "source": [
        "inmet_dia.columns"
      ],
      "metadata": {
        "colab": {
          "base_uri": "https://localhost:8080/"
        },
        "id": "C6Le7kgWHI_A",
        "outputId": "e77de545-314b-43c8-ee06-1ea3d0cac19b"
      },
      "execution_count": null,
      "outputs": [
        {
          "output_type": "execute_result",
          "data": {
            "text/plain": [
              "Index(['Data Medicao', 'INSOLACAO TOTAL, DIARIO(h)',\n",
              "       'PRECIPITACAO TOTAL, DIARIO(mm)', 'TEMPERATURA MAXIMA, DIARIA(Â°C)',\n",
              "       'TEMPERATURA MEDIA COMPENSADA, DIARIA(Â°C)',\n",
              "       'TEMPERATURA MINIMA, DIARIA(Â°C)',\n",
              "       'UMIDADE RELATIVA DO AR, MEDIA DIARIA(%)',\n",
              "       'VENTO, VELOCIDADE MEDIA DIARIA(m/s)', 'dia_da_semana'],\n",
              "      dtype='object', name=0)"
            ]
          },
          "metadata": {},
          "execution_count": 17
        }
      ]
    },
    {
      "cell_type": "code",
      "source": [
        "inmet_dia.rename(\n",
        "                  columns = {\n",
        "                              'Data Medicao':'data', \n",
        "                              'INSOLACAO TOTAL, DIARIO(h)':'insolacao_total',\n",
        "                              'PRECIPITACAO TOTAL, DIARIO(mm)':'ppt_total',\n",
        "                              'TEMPERATURA MAXIMA, DIARIA(Â°C)':'temp_max',\n",
        "                              'TEMPERATURA MEDIA COMPENSADA, DIARIA(Â°C)':'temp_med',\n",
        "                              'TEMPERATURA MINIMA, DIARIA(Â°C)':'temp_min',\n",
        "                              'UMIDADE RELATIVA DO AR, MEDIA DIARIA(%)':'umid_rel_med',\n",
        "                              'VENTO, VELOCIDADE MEDIA DIARIA(m/s)':'vel_vento_med'\n",
        "                            },\n",
        "                  inplace = True\n",
        "                )\n",
        "\n",
        "# inmet_dia.head()"
      ],
      "metadata": {
        "id": "26BNGcq5H36Q"
      },
      "execution_count": null,
      "outputs": []
    },
    {
      "cell_type": "code",
      "source": [
        "inmet_mes.columns"
      ],
      "metadata": {
        "colab": {
          "base_uri": "https://localhost:8080/"
        },
        "id": "zVJil-MWHuVS",
        "outputId": "1150cb6f-103b-44df-88f3-31f6c97575b9"
      },
      "execution_count": null,
      "outputs": [
        {
          "output_type": "execute_result",
          "data": {
            "text/plain": [
              "Index(['Data Medicao', 'INSOLACAO TOTAL, MENSAL(h)',\n",
              "       'NUMERO DE DIAS COM PRECIP. PLUV, MENSAL(nÃºmero)',\n",
              "       'PRECIPITACAO TOTAL, MENSAL(mm)',\n",
              "       'TEMPERATURA MAXIMA MEDIA, MENSAL(Â°C)',\n",
              "       'TEMPERATURA MEDIA COMPENSADA, MENSAL(Â°C)',\n",
              "       'TEMPERATURA MINIMA MEDIA, MENSAL(Â°C)',\n",
              "       'UMIDADE RELATIVA DO AR, MEDIA MENSAL(%)',\n",
              "       'VENTO, VELOCIDADE MEDIA MENSAL(m/s)', 'mes'],\n",
              "      dtype='object', name=0)"
            ]
          },
          "metadata": {},
          "execution_count": 19
        }
      ]
    },
    {
      "cell_type": "code",
      "source": [
        "inmet_mes.rename(\n",
        "                  columns = {\n",
        "                              'Data Medicao':'data', \n",
        "                              'INSOLACAO TOTAL, MENSAL(h)':'insolacao_total',\n",
        "                              'NUMERO DE DIAS COM PRECIP. PLUV, MENSAL(nÃºmero)':'num_dias_ppt',\n",
        "                              'PRECIPITACAO TOTAL, MENSAL(mm)':'ppt_total',\n",
        "                              'TEMPERATURA MAXIMA MEDIA, MENSAL(Â°C)':'temp_max',\n",
        "                              'TEMPERATURA MEDIA COMPENSADA, MENSAL(Â°C)':'temp_med',\n",
        "                              'TEMPERATURA MINIMA MEDIA, MENSAL(Â°C)':'temp_min',\n",
        "                              'UMIDADE RELATIVA DO AR, MEDIA MENSAL(%)':'umid_rel_med',\n",
        "                              'VENTO, VELOCIDADE MEDIA MENSAL(m/s)':'vel_vento_med'\n",
        "                            },\n",
        "                  inplace = True\n",
        "                )\n",
        "\n",
        "# inmet_mes.head()"
      ],
      "metadata": {
        "id": "Da3PKCSaKlDD"
      },
      "execution_count": null,
      "outputs": []
    },
    {
      "cell_type": "markdown",
      "source": [
        "#Download"
      ],
      "metadata": {
        "id": "a4gjrzq7FxSI"
      }
    },
    {
      "cell_type": "code",
      "source": [
        "%cd ..\n",
        "%cd ./created_datasets/"
      ],
      "metadata": {
        "colab": {
          "base_uri": "https://localhost:8080/"
        },
        "id": "zA_BQEveFoII",
        "outputId": "09894560-2d84-497a-b604-398e2191bd72"
      },
      "execution_count": null,
      "outputs": [
        {
          "output_type": "stream",
          "name": "stdout",
          "text": [
            "/content/gdrive/MyDrive/air_quality/datasets\n",
            "/content/gdrive/MyDrive/air_quality/datasets/created_datasets\n"
          ]
        }
      ]
    },
    {
      "cell_type": "code",
      "source": [
        "inmet_dia.to_csv('./inmet_dia.csv')\n",
        "inmet_mes.to_csv('./inmet_mes.csv')"
      ],
      "metadata": {
        "id": "fkSBidpwGVuO"
      },
      "execution_count": null,
      "outputs": []
    }
  ]
}